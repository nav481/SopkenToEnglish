{
 "cells": [
  {
   "cell_type": "code",
   "execution_count": 1,
   "metadata": {},
   "outputs": [],
   "source": [
    "def get_rules():\n",
    "    rules = {\"Numbers\":{\n",
    "                        \"zero\": 0,\n",
    "                        \"one\" : 1,\n",
    "                        \"two\": 2,\n",
    "                        \"three\": 3,\n",
    "                        \"four\": 4,\n",
    "                        \"five\": 5,\n",
    "                        \"six\": 6,\n",
    "                        \"seven\": 7,\n",
    "                        \"eight\": 8,\n",
    "                        \"nine\": 9,\n",
    "                        \"ten\": 10,\n",
    "                        \"twenty\": 20,\n",
    "                        \"thirty\": 30,\n",
    "                        \"forty\": 40,\n",
    "                        \"fifty\": 50,\n",
    "                        \"sixty\": 60,\n",
    "                        \"seventy\": 70,\n",
    "                        \"eighty\": 80,\n",
    "                        \"ninety\": 90,\n",
    "                        \"hundred\": 100\n",
    "                        },\n",
    "            \"Tuples\": {\n",
    "                         \"single\":1,\n",
    "                         \"double\":2,\n",
    "                         \"triple\":3,\n",
    "                         \"quadruple\":4,\n",
    "                         \"quintuple\":5,\n",
    "                         \"sextuple\":6,\n",
    "                         \"septuple\":7,\n",
    "                         \"octuple\":8,\n",
    "                         \"nonuple\":9,\n",
    "                         \"decuple\":10\n",
    "                      },\n",
    "            \"General\": {\n",
    "                          \"C M\": \"CM\",\n",
    "                          \"P M\": \"PM\",\n",
    "                          \"D M\": \"DM\",\n",
    "                          \"A M\": \"AM\"\n",
    "                       }\n",
    "            }\n",
    "    return rules"
   ]
  },
  {
   "cell_type": "code",
   "execution_count": 2,
   "metadata": {},
   "outputs": [],
   "source": [
    "def check_front_last(word):\n",
    "    front=\"\"\n",
    "    last=\"\"\n",
    "    if(len(word)>1):\n",
    "        if word[-1]==',' or word[-1]=='.':\n",
    "            last=word[-1]\n",
    "            word=word[:-1]\n",
    "        if word[0]==',' or word[0]=='.':\n",
    "            front=word[0]\n",
    "            word=word[1:]\n",
    "    return front,word,last"
   ]
  },
  {
   "cell_type": "code",
   "execution_count": 3,
   "metadata": {},
   "outputs": [],
   "source": [
    "class SpokenToWritten:\n",
    "\n",
    "    def __init__(self):\n",
    "\n",
    "        self.rules=get_rules()\n",
    "        self.paragraph=\"\"\n",
    "        self.ouptut_para=\"\"\n",
    "\n",
    "    def get_user_input(self):\n",
    "\n",
    "        self.paragraph=input(\"\\n[IN]:Enter Your paragraph of spoken english:\\n\\t\")\n",
    "\n",
    "        if not self.paragraph:\n",
    "            raise ValueError(\"[Error]: You entered nothing.\")\n",
    "\n",
    "\n",
    "    def show_output(self):\n",
    "        print(\"\\n[OUT]:The input Spoken English Paragraph: \\n\\n \\\" \"+ self.paragraph+\"\\\"\")\n",
    "        print(\"\\nConverted Written English Paragraph: \\n\\n \\\"\" +self.ouptut_para+\"\\\"\")"
   ]
  },
  {
   "cell_type": "code",
   "execution_count": 4,
   "metadata": {},
   "outputs": [],
   "source": [
    "def Convert(self):\n",
    "        words_of_para=self.paragraph.split()\n",
    "\n",
    "        numbers=self.rules['Numbers']\n",
    "        tuples=self.rules['Tuples']\n",
    "        general=self.rules['General']\n",
    "        i=0\n",
    "        no_of_words=len(words_of_para)\n",
    "        while i<no_of_words: \n",
    "            \n",
    "            front,word,last=check_front_last(words_of_para[i])\n",
    "            if i+1!= no_of_words:\n",
    "                front_n,next_word,last_n=check_front_last(words_of_para[i+1])\n",
    "                if word.lower() in numbers.keys() and (next_word.lower()=='dollars' or next_word.lower()=='dollar'):\n",
    "                    self.ouptut_para=self.ouptut_para+\" \"+front+\"$\"+str(numbers[word.lower()])+last\n",
    "                    i=i+2\n",
    "\n",
    "                elif word.lower() in tuples.keys() and len(next_word)==1:\n",
    "                    self.ouptut_para=self.ouptut_para+\" \"+front_n+(next_word*tuples[word.lower()])+last_n\n",
    "                    i=i+2\n",
    "                elif (word+\" \"+next_word) in general.keys():\n",
    "                    self.ouptut_para=self.ouptut_para+\" \"+front+word+next_word+last_n\n",
    "                    i=i+2\n",
    "                else:\n",
    "                    self.ouptut_para=self.ouptut_para+\" \"+words_of_para[i]\n",
    "                    i=i+1\n",
    "            else:\n",
    "                self.ouptut_para=self.ouptut_para+\" \"+words_of_para[i]\n",
    "                i=i+1"
   ]
  },
  {
   "cell_type": "code",
   "execution_count": 5,
   "metadata": {},
   "outputs": [],
   "source": [
    "def convert_sp_to_wr():\n",
    "    obj_spoken=SpokenToWritten()\n",
    "    obj_spoken.get_user_input()\n",
    "    obj_spoken.Convert()\n",
    "    \n",
    "    obj_spoken.show_output()"
   ]
  },
  {
   "cell_type": "code",
   "execution_count": null,
   "metadata": {},
   "outputs": [],
   "source": [
    "convert_sp_to_wr()  "
   ]
  },
  {
   "cell_type": "code",
   "execution_count": null,
   "metadata": {},
   "outputs": [],
   "source": []
  }
 ],
 "metadata": {
  "kernelspec": {
   "display_name": "Python 3",
   "language": "python",
   "name": "python3"
  },
  "language_info": {
   "codemirror_mode": {
    "name": "ipython",
    "version": 3
   },
   "file_extension": ".py",
   "mimetype": "text/x-python",
   "name": "python",
   "nbconvert_exporter": "python",
   "pygments_lexer": "ipython3",
   "version": "3.7.3"
  }
 },
 "nbformat": 4,
 "nbformat_minor": 2
}
